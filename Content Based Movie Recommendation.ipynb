{
 "cells": [
  {
   "cell_type": "markdown",
   "metadata": {},
   "source": [
    "   #                      Content Based Movie Recommendation"
   ]
  },
  {
   "cell_type": "code",
   "execution_count": 1,
   "metadata": {},
   "outputs": [],
   "source": [
    "import pandas as pd\n",
    "import numpy as np\n",
    "from sklearn.feature_extraction.text import CountVectorizer  #for converting a collection of words to a matrix of token counts\n",
    "from sklearn.metrics.pairwise import cosine_similarity  #for calculating similarity  between two vectors. (counted word vectors in this case)"
   ]
  },
  {
   "cell_type": "markdown",
   "metadata": {},
   "source": [
    "First, we load the data frame and look at the columns of it to decide the features we will use "
   ]
  },
  {
   "cell_type": "code",
   "execution_count": 2,
   "metadata": {},
   "outputs": [
    {
     "data": {
      "text/plain": [
       "Index(['index', 'budget', 'genres', 'homepage', 'id', 'keywords',\n",
       "       'original_language', 'original_title', 'overview', 'popularity',\n",
       "       'production_companies', 'production_countries', 'release_date',\n",
       "       'revenue', 'runtime', 'spoken_languages', 'status', 'tagline', 'title',\n",
       "       'vote_average', 'vote_count', 'cast', 'crew', 'director'],\n",
       "      dtype='object')"
      ]
     },
     "execution_count": 2,
     "metadata": {},
     "output_type": "execute_result"
    }
   ],
   "source": [
    "df=pd.read_csv(\"movie_recommendation_dataset/movie_dataset.csv\")\n",
    "df.columns"
   ]
  },
  {
   "cell_type": "code",
   "execution_count": 3,
   "metadata": {},
   "outputs": [],
   "source": [
    "important_features=[\"genres\",\"keywords\",\"cast\",\"director\"]  #we will recommend movies according to similarity betwenn these features"
   ]
  },
  {
   "cell_type": "markdown",
   "metadata": {},
   "source": [
    "Preparing and cleaning the data:"
   ]
  },
  {
   "cell_type": "code",
   "execution_count": 4,
   "metadata": {},
   "outputs": [],
   "source": [
    "df.replace(',',' ', regex=True, inplace=True) #replace commas with white space\n",
    "df.replace(':','', regex=True, inplace=True)  #deleting colons so we dont need to write them when we enter a name of a movie (Since they are hard to remember all the time)\n",
    "df.replace(\"'\",'', regex=True, inplace=True)  #deleting apostrophes so we dont need to write them (Since they are hard to remember all the time)\n",
    "\n",
    "df = df.applymap(lambda s:s.lower() if type(s) == str else s) #lowering all letters\n",
    "for feature in df:                                            #filling NaNs with empty string\n",
    "    df[feature]=df[feature].fillna(\"\")\n",
    "    "
   ]
  },
  {
   "cell_type": "code",
   "execution_count": 5,
   "metadata": {},
   "outputs": [
    {
     "data": {
      "text/html": [
       "<div>\n",
       "<style scoped>\n",
       "    .dataframe tbody tr th:only-of-type {\n",
       "        vertical-align: middle;\n",
       "    }\n",
       "\n",
       "    .dataframe tbody tr th {\n",
       "        vertical-align: top;\n",
       "    }\n",
       "\n",
       "    .dataframe thead th {\n",
       "        text-align: right;\n",
       "    }\n",
       "</style>\n",
       "<table border=\"1\" class=\"dataframe\">\n",
       "  <thead>\n",
       "    <tr style=\"text-align: right;\">\n",
       "      <th></th>\n",
       "      <th>index</th>\n",
       "      <th>budget</th>\n",
       "      <th>genres</th>\n",
       "      <th>homepage</th>\n",
       "      <th>id</th>\n",
       "      <th>keywords</th>\n",
       "      <th>original_language</th>\n",
       "      <th>original_title</th>\n",
       "      <th>overview</th>\n",
       "      <th>popularity</th>\n",
       "      <th>...</th>\n",
       "      <th>runtime</th>\n",
       "      <th>spoken_languages</th>\n",
       "      <th>status</th>\n",
       "      <th>tagline</th>\n",
       "      <th>title</th>\n",
       "      <th>vote_average</th>\n",
       "      <th>vote_count</th>\n",
       "      <th>cast</th>\n",
       "      <th>crew</th>\n",
       "      <th>director</th>\n",
       "    </tr>\n",
       "  </thead>\n",
       "  <tbody>\n",
       "    <tr>\n",
       "      <th>0</th>\n",
       "      <td>0</td>\n",
       "      <td>237000000</td>\n",
       "      <td>action adventure fantasy science fiction</td>\n",
       "      <td>http//www.avatarmovie.com/</td>\n",
       "      <td>19995</td>\n",
       "      <td>culture clash future space war space colony so...</td>\n",
       "      <td>en</td>\n",
       "      <td>avatar</td>\n",
       "      <td>in the 22nd century  a paraplegic marine is di...</td>\n",
       "      <td>150.437577</td>\n",
       "      <td>...</td>\n",
       "      <td>162</td>\n",
       "      <td>[{\"iso_639_1\" \"en\"  \"name\" \"english\"}  {\"iso_6...</td>\n",
       "      <td>released</td>\n",
       "      <td>enter the world of pandora.</td>\n",
       "      <td>avatar</td>\n",
       "      <td>7.2</td>\n",
       "      <td>11800</td>\n",
       "      <td>sam worthington zoe saldana sigourney weaver s...</td>\n",
       "      <td>[{name stephen e. rivkin  gender 0  department...</td>\n",
       "      <td>james cameron</td>\n",
       "    </tr>\n",
       "    <tr>\n",
       "      <th>1</th>\n",
       "      <td>1</td>\n",
       "      <td>300000000</td>\n",
       "      <td>adventure fantasy action</td>\n",
       "      <td>http//disney.go.com/disneypictures/pirates/</td>\n",
       "      <td>285</td>\n",
       "      <td>ocean drug abuse exotic island east india trad...</td>\n",
       "      <td>en</td>\n",
       "      <td>pirates of the caribbean at worlds end</td>\n",
       "      <td>captain barbossa  long believed to be dead  ha...</td>\n",
       "      <td>139.082615</td>\n",
       "      <td>...</td>\n",
       "      <td>169</td>\n",
       "      <td>[{\"iso_639_1\" \"en\"  \"name\" \"english\"}]</td>\n",
       "      <td>released</td>\n",
       "      <td>at the end of the world  the adventure begins.</td>\n",
       "      <td>pirates of the caribbean at worlds end</td>\n",
       "      <td>6.9</td>\n",
       "      <td>4500</td>\n",
       "      <td>johnny depp orlando bloom keira knightley stel...</td>\n",
       "      <td>[{name dariusz wolski  gender 2  department ca...</td>\n",
       "      <td>gore verbinski</td>\n",
       "    </tr>\n",
       "    <tr>\n",
       "      <th>2</th>\n",
       "      <td>2</td>\n",
       "      <td>245000000</td>\n",
       "      <td>action adventure crime</td>\n",
       "      <td>http//www.sonypictures.com/movies/spectre/</td>\n",
       "      <td>206647</td>\n",
       "      <td>spy based on novel secret agent sequel mi6</td>\n",
       "      <td>en</td>\n",
       "      <td>spectre</td>\n",
       "      <td>a cryptic message from bond’s past sends him o...</td>\n",
       "      <td>107.376788</td>\n",
       "      <td>...</td>\n",
       "      <td>148</td>\n",
       "      <td>[{\"iso_639_1\" \"fr\"  \"name\" \"fran\\u00e7ais\"}  {...</td>\n",
       "      <td>released</td>\n",
       "      <td>a plan no one escapes</td>\n",
       "      <td>spectre</td>\n",
       "      <td>6.3</td>\n",
       "      <td>4466</td>\n",
       "      <td>daniel craig christoph waltz l\\u00e9a seydoux ...</td>\n",
       "      <td>[{name thomas newman  gender 2  department sou...</td>\n",
       "      <td>sam mendes</td>\n",
       "    </tr>\n",
       "  </tbody>\n",
       "</table>\n",
       "<p>3 rows × 24 columns</p>\n",
       "</div>"
      ],
      "text/plain": [
       "   index     budget                                    genres  \\\n",
       "0      0  237000000  action adventure fantasy science fiction   \n",
       "1      1  300000000                  adventure fantasy action   \n",
       "2      2  245000000                    action adventure crime   \n",
       "\n",
       "                                      homepage      id  \\\n",
       "0                   http//www.avatarmovie.com/   19995   \n",
       "1  http//disney.go.com/disneypictures/pirates/     285   \n",
       "2   http//www.sonypictures.com/movies/spectre/  206647   \n",
       "\n",
       "                                            keywords original_language  \\\n",
       "0  culture clash future space war space colony so...                en   \n",
       "1  ocean drug abuse exotic island east india trad...                en   \n",
       "2         spy based on novel secret agent sequel mi6                en   \n",
       "\n",
       "                           original_title  \\\n",
       "0                                  avatar   \n",
       "1  pirates of the caribbean at worlds end   \n",
       "2                                 spectre   \n",
       "\n",
       "                                            overview  popularity  ... runtime  \\\n",
       "0  in the 22nd century  a paraplegic marine is di...  150.437577  ...     162   \n",
       "1  captain barbossa  long believed to be dead  ha...  139.082615  ...     169   \n",
       "2  a cryptic message from bond’s past sends him o...  107.376788  ...     148   \n",
       "\n",
       "                                    spoken_languages    status  \\\n",
       "0  [{\"iso_639_1\" \"en\"  \"name\" \"english\"}  {\"iso_6...  released   \n",
       "1             [{\"iso_639_1\" \"en\"  \"name\" \"english\"}]  released   \n",
       "2  [{\"iso_639_1\" \"fr\"  \"name\" \"fran\\u00e7ais\"}  {...  released   \n",
       "\n",
       "                                          tagline  \\\n",
       "0                     enter the world of pandora.   \n",
       "1  at the end of the world  the adventure begins.   \n",
       "2                           a plan no one escapes   \n",
       "\n",
       "                                    title vote_average vote_count  \\\n",
       "0                                  avatar          7.2      11800   \n",
       "1  pirates of the caribbean at worlds end          6.9       4500   \n",
       "2                                 spectre          6.3       4466   \n",
       "\n",
       "                                                cast  \\\n",
       "0  sam worthington zoe saldana sigourney weaver s...   \n",
       "1  johnny depp orlando bloom keira knightley stel...   \n",
       "2  daniel craig christoph waltz l\\u00e9a seydoux ...   \n",
       "\n",
       "                                                crew        director  \n",
       "0  [{name stephen e. rivkin  gender 0  department...   james cameron  \n",
       "1  [{name dariusz wolski  gender 2  department ca...  gore verbinski  \n",
       "2  [{name thomas newman  gender 2  department sou...      sam mendes  \n",
       "\n",
       "[3 rows x 24 columns]"
      ]
     },
     "execution_count": 5,
     "metadata": {},
     "output_type": "execute_result"
    }
   ],
   "source": [
    "df.head(3)"
   ]
  },
  {
   "cell_type": "markdown",
   "metadata": {},
   "source": [
    "Combining features in a string, since we want to use CountVectorizer"
   ]
  },
  {
   "cell_type": "code",
   "execution_count": 6,
   "metadata": {},
   "outputs": [],
   "source": [
    "def combine_features(row):  \n",
    "    return row['genres']+\" \"+row['keywords']+\" \"+row['cast']+\" \"+row['director']"
   ]
  },
  {
   "cell_type": "code",
   "execution_count": 7,
   "metadata": {},
   "outputs": [],
   "source": [
    "df[\"combined_features\"] = df.apply(combine_features,axis=1)  #creating new column with the combined features"
   ]
  },
  {
   "cell_type": "code",
   "execution_count": 8,
   "metadata": {},
   "outputs": [
    {
     "data": {
      "text/plain": [
       "'action adventure fantasy science fiction culture clash future space war space colony society sam worthington zoe saldana sigourney weaver stephen lang michelle rodriguez james cameron'"
      ]
     },
     "execution_count": 8,
     "metadata": {},
     "output_type": "execute_result"
    }
   ],
   "source": [
    "df[\"combined_features\"][0]  #example"
   ]
  },
  {
   "cell_type": "code",
   "execution_count": 9,
   "metadata": {},
   "outputs": [],
   "source": [
    "count_vec=CountVectorizer().fit_transform(df[\"combined_features\"])  #applying CountVectorizer on our combined_features column"
   ]
  },
  {
   "cell_type": "code",
   "execution_count": 10,
   "metadata": {},
   "outputs": [],
   "source": [
    "cs=cosine_similarity(count_vec)   #appliying cosine_similarity in order to calculate similarity between each movie"
   ]
  },
  {
   "cell_type": "markdown",
   "metadata": {},
   "source": [
    "Now we can search for the movie we want to find its similar. For that, we need to find movie's id. But first, we need to find whether the movie's name we search is fully in the data frame, if it is not, suggest user a movie that contains a word that he/she/they entered.\n",
    "\n",
    "![Content Based Movie Recommendation](/images/flowchartt.png)"
   ]
  },
  {
   "cell_type": "code",
   "execution_count": 35,
   "metadata": {},
   "outputs": [
    {
     "name": "stdout",
     "output_type": "stream",
     "text": [
      "Did you mean  harry potter and the half-blood prince\n",
      "yes or no? \n",
      "no\n",
      "Did you mean  harry potter and the order of the phoenix\n",
      "yes or no? \n",
      "no\n",
      "Did you mean  harry potter and the goblet of fire\n",
      "yes or no? \n",
      "yes\n"
     ]
    }
   ],
   "source": [
    "title=\"harry potter\"   # title contains the name we want to find its similar\n",
    "pseudo_list=[]\n",
    "done=False\n",
    "#find the movie id\n",
    "for i in df[\"original_title\"]:\n",
    "    if i==title:\n",
    "        movie_id=df[df.original_title==title][\"index\"].values[0]\n",
    "        scores=list(enumerate(cs[movie_id]))\n",
    "    elif (title in i):\n",
    "        pseudo_list.append(i)\n",
    "for i in range (0,len(pseudo_list)):\n",
    "    print(\"Did you mean \", pseudo_list[i])\n",
    "    ans=input(\"yes or no? \\n\")\n",
    "    if (ans==\"yes\"):\n",
    "            movie_id=df[df.original_title==pseudo_list[0]][\"index\"].values[0]\n",
    "            break\n",
    "    else:\n",
    "            continue\n",
    "         "
   ]
  },
  {
   "cell_type": "code",
   "execution_count": 36,
   "metadata": {},
   "outputs": [],
   "source": [
    "#create a list of enumerations for the similar score [(movie_id,similarity score),(...)]\n",
    "scores=list(enumerate(cs[movie_id]))"
   ]
  },
  {
   "cell_type": "code",
   "execution_count": 37,
   "metadata": {},
   "outputs": [],
   "source": [
    "#sort list\n",
    "sorted_score=sorted(scores,key= lambda x:x[1],reverse=True)\n",
    "sorted_score=sorted_score[1:]   #we dont take index 0 since it is the movie itself"
   ]
  },
  {
   "cell_type": "code",
   "execution_count": 38,
   "metadata": {},
   "outputs": [
    {
     "name": "stdout",
     "output_type": "stream",
     "text": [
      "the most 5 recommended movies to harry potter and the half-blood prince \n",
      "\n",
      "1 harry potter and the order of the phoenix\n",
      "2 harry potter and the goblet of fire\n",
      "3 harry potter and the philosophers stone\n",
      "4 harry potter and the prisoner of azkaban\n",
      "5 harry potter and the chamber of secrets\n",
      "6 treasure planet\n"
     ]
    }
   ],
   "source": [
    "j=0\n",
    "\n",
    "print(\"the most 5 recommended movies to\",df[df.index==movie_id][\"original_title\"].values[0],\"\\n\")\n",
    "for item in sorted_score:\n",
    "    movie_title=df[df.index==item[0]][\"original_title\"].values[0]\n",
    "    print(j+1,movie_title)\n",
    "    j=j+1\n",
    "    if j>5:\n",
    "        break"
   ]
  },
  {
   "cell_type": "code",
   "execution_count": null,
   "metadata": {},
   "outputs": [],
   "source": []
  }
 ],
 "metadata": {
  "kernelspec": {
   "display_name": "Python 3",
   "language": "python",
   "name": "python3"
  },
  "language_info": {
   "codemirror_mode": {
    "name": "ipython",
    "version": 3
   },
   "file_extension": ".py",
   "mimetype": "text/x-python",
   "name": "python",
   "nbconvert_exporter": "python",
   "pygments_lexer": "ipython3",
   "version": "3.8.5"
  }
 },
 "nbformat": 4,
 "nbformat_minor": 4
}
